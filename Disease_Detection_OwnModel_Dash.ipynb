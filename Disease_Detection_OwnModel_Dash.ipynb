{
  "nbformat": 4,
  "nbformat_minor": 0,
  "metadata": {
    "colab": {
      "provenance": []
    },
    "kernelspec": {
      "name": "python3",
      "display_name": "Python 3"
    },
    "language_info": {
      "name": "python"
    }
  },
  "cells": [
    {
      "cell_type": "code",
      "execution_count": null,
      "metadata": {
        "colab": {
          "base_uri": "https://localhost:8080/"
        },
        "id": "yakxWI1QrTN8",
        "outputId": "4c2a209e-7d8f-4086-c170-d4d54c303b8a"
      },
      "outputs": [
        {
          "output_type": "stream",
          "name": "stdout",
          "text": [
            "Mounted at /content/drive\n"
          ]
        }
      ],
      "source": [
        "from google.colab import drive\n",
        "drive.mount('/content/drive')"
      ]
    },
    {
      "cell_type": "code",
      "source": [
        "# Import necessary libraries\n",
        "import os\n",
        "import numpy as np\n",
        "import tensorflow as tf\n",
        "from tensorflow.keras.preprocessing.image import ImageDataGenerator\n",
        "from tensorflow.keras.models import Sequential\n",
        "from tensorflow.keras.layers import Conv2D, MaxPooling2D, Flatten, Dense\n"
      ],
      "metadata": {
        "id": "IHD18mzKrfX6"
      },
      "execution_count": null,
      "outputs": []
    },
    {
      "cell_type": "code",
      "source": [
        "# Define the path to your dataset\n",
        "dataset_path = '/content/drive/My Drive/Data Sets/Training-Data/train'\n"
      ],
      "metadata": {
        "id": "wNVnC0I7tfFX"
      },
      "execution_count": null,
      "outputs": []
    },
    {
      "cell_type": "code",
      "source": [
        "num_classes = 13"
      ],
      "metadata": {
        "id": "0NeKKGoftxAU"
      },
      "execution_count": null,
      "outputs": []
    },
    {
      "cell_type": "code",
      "source": [
        "datagen = ImageDataGenerator(rescale=1./255, shear_range=0.2, zoom_range=0.2, horizontal_flip=True, validation_split=0.2)"
      ],
      "metadata": {
        "id": "bQPwkqH1t04z"
      },
      "execution_count": null,
      "outputs": []
    },
    {
      "cell_type": "code",
      "source": [
        "train_generator = datagen.flow_from_directory(dataset_path, target_size=(224, 224), batch_size=32, class_mode='categorical', subset='training')"
      ],
      "metadata": {
        "colab": {
          "base_uri": "https://localhost:8080/"
        },
        "id": "BRDwxcoOt5Pw",
        "outputId": "f9ef35b7-b5fe-4748-e9d0-457c703f56cd"
      },
      "execution_count": null,
      "outputs": [
        {
          "output_type": "stream",
          "name": "stdout",
          "text": [
            "Found 364 images belonging to 13 classes.\n"
          ]
        }
      ]
    },
    {
      "cell_type": "code",
      "source": [
        "val_generator = datagen.flow_from_directory(dataset_path, target_size=(224, 224), batch_size=32, class_mode='categorical', subset='validation')"
      ],
      "metadata": {
        "colab": {
          "base_uri": "https://localhost:8080/"
        },
        "id": "isZOeLvBuEh4",
        "outputId": "ba04d6a2-e495-48b2-c970-fedf50768b7f"
      },
      "execution_count": null,
      "outputs": [
        {
          "output_type": "stream",
          "name": "stdout",
          "text": [
            "Found 85 images belonging to 13 classes.\n"
          ]
        }
      ]
    },
    {
      "cell_type": "code",
      "source": [
        "# Define the model\n",
        "model = Sequential()\n",
        "model.add(Conv2D(32, (3, 3), activation='relu', input_shape=(224, 224, 3)))\n",
        "model.add(MaxPooling2D((2, 2)))\n",
        "model.add(Conv2D(64, (3, 3), activation='relu'))\n",
        "model.add(MaxPooling2D((2, 2)))\n",
        "model.add(Conv2D(128, (3, 3), activation='relu'))\n",
        "model.add(MaxPooling2D((2, 2)))\n",
        "model.add(Flatten())\n",
        "model.add(Dense(128, activation='relu'))\n",
        "model.add(Dense(num_classes, activation='softmax'))\n"
      ],
      "metadata": {
        "id": "soYteYOkuF0M"
      },
      "execution_count": null,
      "outputs": []
    },
    {
      "cell_type": "code",
      "source": [
        "# Compile the model\n",
        "model.compile(optimizer='adam', loss='categorical_crossentropy', metrics=['accuracy'])\n"
      ],
      "metadata": {
        "id": "5kekY_IwuJHm"
      },
      "execution_count": null,
      "outputs": []
    },
    {
      "cell_type": "code",
      "source": [
        "# Train the model\n",
        "model.fit(train_generator, validation_data=val_generator, epochs=10)\n"
      ],
      "metadata": {
        "colab": {
          "base_uri": "https://localhost:8080/"
        },
        "id": "t3cFeZnduL9D",
        "outputId": "49143c0c-f632-4f76-d39d-02dfe25c80df"
      },
      "execution_count": null,
      "outputs": [
        {
          "output_type": "stream",
          "name": "stdout",
          "text": [
            "Epoch 1/10\n",
            "12/12 [==============================] - 224s 18s/step - loss: 3.3485 - accuracy: 0.1923 - val_loss: 2.2943 - val_accuracy: 0.1529\n",
            "Epoch 2/10\n",
            "12/12 [==============================] - 58s 5s/step - loss: 2.3230 - accuracy: 0.1951 - val_loss: 2.2475 - val_accuracy: 0.2353\n",
            "Epoch 3/10\n",
            "12/12 [==============================] - 57s 5s/step - loss: 2.2684 - accuracy: 0.2253 - val_loss: 2.2354 - val_accuracy: 0.2353\n",
            "Epoch 4/10\n",
            "12/12 [==============================] - 60s 5s/step - loss: 2.2467 - accuracy: 0.2280 - val_loss: 2.2661 - val_accuracy: 0.2353\n",
            "Epoch 5/10\n",
            "12/12 [==============================] - 55s 5s/step - loss: 2.2126 - accuracy: 0.2308 - val_loss: 2.1925 - val_accuracy: 0.3647\n",
            "Epoch 6/10\n",
            "12/12 [==============================] - 54s 4s/step - loss: 2.1417 - accuracy: 0.2912 - val_loss: 2.0932 - val_accuracy: 0.3294\n",
            "Epoch 7/10\n",
            "12/12 [==============================] - 60s 5s/step - loss: 2.0437 - accuracy: 0.3159 - val_loss: 2.0257 - val_accuracy: 0.4235\n",
            "Epoch 8/10\n",
            "12/12 [==============================] - 55s 5s/step - loss: 2.0248 - accuracy: 0.3269 - val_loss: 1.9961 - val_accuracy: 0.3647\n",
            "Epoch 9/10\n",
            "12/12 [==============================] - 57s 5s/step - loss: 1.9348 - accuracy: 0.3516 - val_loss: 2.0205 - val_accuracy: 0.3647\n",
            "Epoch 10/10\n",
            "12/12 [==============================] - 55s 4s/step - loss: 1.8505 - accuracy: 0.3929 - val_loss: 2.0492 - val_accuracy: 0.3882\n"
          ]
        },
        {
          "output_type": "execute_result",
          "data": {
            "text/plain": [
              "<keras.src.callbacks.History at 0x7d0d553814e0>"
            ]
          },
          "metadata": {},
          "execution_count": 12
        }
      ]
    },
    {
      "cell_type": "code",
      "source": [
        "# Save the trained model\n",
        "model.save('trained_model.h5')\n"
      ],
      "metadata": {
        "colab": {
          "base_uri": "https://localhost:8080/"
        },
        "id": "Bup67MYUu5LH",
        "outputId": "5a1cf90c-f198-4502-8a89-ee62aad74379"
      },
      "execution_count": null,
      "outputs": [
        {
          "output_type": "stream",
          "name": "stderr",
          "text": [
            "/usr/local/lib/python3.10/dist-packages/keras/src/engine/training.py:3103: UserWarning: You are saving your model as an HDF5 file via `model.save()`. This file format is considered legacy. We recommend using instead the native Keras format, e.g. `model.save('my_model.keras')`.\n",
            "  saving_api.save_model(\n"
          ]
        }
      ]
    },
    {
      "cell_type": "code",
      "source": [
        "# Function to preprocess the image for the trained model\n",
        "def preprocess_image(img_path):\n",
        "    img = tf.keras.preprocessing.image.load_img(img_path, target_size=(224, 224))\n",
        "    img_array = tf.keras.preprocessing.image.img_to_array(img)\n",
        "    img_array = np.expand_dims(img_array, axis=0)\n",
        "    img_array /= 255.0  # Normalize pixel values\n",
        "    return img_array\n"
      ],
      "metadata": {
        "id": "Fu4nUs2RyQu1"
      },
      "execution_count": null,
      "outputs": []
    },
    {
      "cell_type": "code",
      "source": [
        "def predict_lettuce_type(img_path, confidence_threshold=0.1):\n",
        "    img_array = preprocess_image(img_path)\n",
        "    predictions = model.predict(img_array)\n",
        "    class_index = np.argmax(predictions)\n",
        "    confidence = predictions[0, class_index]\n",
        "\n",
        "    if confidence >= confidence_threshold:\n",
        "        if class_index == 0:\n",
        "            return \"Alternaria Leaf Spot\"\n",
        "        elif class_index == 1:\n",
        "            return \"Angular Leaf Spot\"\n",
        "        elif class_index == 2:\n",
        "            return \"Anthracnose\"\n",
        "        elif class_index == 3:\n",
        "            return \"Bacterial Leaf Spot\"\n",
        "        elif class_index == 4:\n",
        "            return \"Black Rot Leaf Spot\"\n",
        "        elif class_index == 5:\n",
        "            return \"Cercospora Leaf Spot\"\n",
        "        elif class_index == 6:\n",
        "            return \"Downy Mildew\"\n",
        "        elif class_index == 7:\n",
        "            return \"Gummy Stem Blight\"\n",
        "        elif class_index == 8:\n",
        "            return \"Healthy\"\n",
        "        elif class_index == 9:\n",
        "            return \"Mosaic Virus\"\n",
        "        elif class_index == 10:\n",
        "            return \"Powdery Mildew\"\n",
        "        elif class_index == 11:\n",
        "            return \"Rust\"\n",
        "        elif class_index == 2:\n",
        "            return \"Septoria Leaf Spot\"\n",
        "    else:\n",
        "        return \"Unknown\""
      ],
      "metadata": {
        "id": "zyz2akeNysRw"
      },
      "execution_count": null,
      "outputs": []
    },
    {
      "cell_type": "code",
      "source": [
        "!pip install dash"
      ],
      "metadata": {
        "colab": {
          "base_uri": "https://localhost:8080/"
        },
        "id": "1eETiZUm2P2W",
        "outputId": "67036bf0-ac2a-4890-c58f-0c0e4d29cef1"
      },
      "execution_count": null,
      "outputs": [
        {
          "output_type": "stream",
          "name": "stdout",
          "text": [
            "Collecting dash\n",
            "  Downloading dash-2.14.2-py3-none-any.whl (10.2 MB)\n",
            "\u001b[2K     \u001b[90m━━━━━━━━━━━━━━━━━━━━━━━━━━━━━━━━━━━━━━━━\u001b[0m \u001b[32m10.2/10.2 MB\u001b[0m \u001b[31m38.4 MB/s\u001b[0m eta \u001b[36m0:00:00\u001b[0m\n",
            "\u001b[?25hRequirement already satisfied: Flask<3.1,>=1.0.4 in /usr/local/lib/python3.10/dist-packages (from dash) (2.2.5)\n",
            "Requirement already satisfied: Werkzeug<3.1 in /usr/local/lib/python3.10/dist-packages (from dash) (3.0.1)\n",
            "Requirement already satisfied: plotly>=5.0.0 in /usr/local/lib/python3.10/dist-packages (from dash) (5.15.0)\n",
            "Collecting dash-html-components==2.0.0 (from dash)\n",
            "  Downloading dash_html_components-2.0.0-py3-none-any.whl (4.1 kB)\n",
            "Collecting dash-core-components==2.0.0 (from dash)\n",
            "  Downloading dash_core_components-2.0.0-py3-none-any.whl (3.8 kB)\n",
            "Collecting dash-table==5.0.0 (from dash)\n",
            "  Downloading dash_table-5.0.0-py3-none-any.whl (3.9 kB)\n",
            "Requirement already satisfied: typing-extensions>=4.1.1 in /usr/local/lib/python3.10/dist-packages (from dash) (4.5.0)\n",
            "Requirement already satisfied: requests in /usr/local/lib/python3.10/dist-packages (from dash) (2.31.0)\n",
            "Collecting retrying (from dash)\n",
            "  Downloading retrying-1.3.4-py3-none-any.whl (11 kB)\n",
            "Collecting ansi2html (from dash)\n",
            "  Downloading ansi2html-1.9.1-py3-none-any.whl (17 kB)\n",
            "Requirement already satisfied: nest-asyncio in /usr/local/lib/python3.10/dist-packages (from dash) (1.5.8)\n",
            "Requirement already satisfied: setuptools in /usr/local/lib/python3.10/dist-packages (from dash) (67.7.2)\n",
            "Requirement already satisfied: importlib-metadata in /usr/local/lib/python3.10/dist-packages (from dash) (7.0.1)\n",
            "Requirement already satisfied: Jinja2>=3.0 in /usr/local/lib/python3.10/dist-packages (from Flask<3.1,>=1.0.4->dash) (3.1.3)\n",
            "Requirement already satisfied: itsdangerous>=2.0 in /usr/local/lib/python3.10/dist-packages (from Flask<3.1,>=1.0.4->dash) (2.1.2)\n",
            "Requirement already satisfied: click>=8.0 in /usr/local/lib/python3.10/dist-packages (from Flask<3.1,>=1.0.4->dash) (8.1.7)\n",
            "Requirement already satisfied: tenacity>=6.2.0 in /usr/local/lib/python3.10/dist-packages (from plotly>=5.0.0->dash) (8.2.3)\n",
            "Requirement already satisfied: packaging in /usr/local/lib/python3.10/dist-packages (from plotly>=5.0.0->dash) (23.2)\n",
            "Requirement already satisfied: MarkupSafe>=2.1.1 in /usr/local/lib/python3.10/dist-packages (from Werkzeug<3.1->dash) (2.1.3)\n",
            "Requirement already satisfied: zipp>=0.5 in /usr/local/lib/python3.10/dist-packages (from importlib-metadata->dash) (3.17.0)\n",
            "Requirement already satisfied: charset-normalizer<4,>=2 in /usr/local/lib/python3.10/dist-packages (from requests->dash) (3.3.2)\n",
            "Requirement already satisfied: idna<4,>=2.5 in /usr/local/lib/python3.10/dist-packages (from requests->dash) (3.6)\n",
            "Requirement already satisfied: urllib3<3,>=1.21.1 in /usr/local/lib/python3.10/dist-packages (from requests->dash) (2.0.7)\n",
            "Requirement already satisfied: certifi>=2017.4.17 in /usr/local/lib/python3.10/dist-packages (from requests->dash) (2023.11.17)\n",
            "Requirement already satisfied: six>=1.7.0 in /usr/local/lib/python3.10/dist-packages (from retrying->dash) (1.16.0)\n",
            "Installing collected packages: dash-table, dash-html-components, dash-core-components, retrying, ansi2html, dash\n",
            "Successfully installed ansi2html-1.9.1 dash-2.14.2 dash-core-components-2.0.0 dash-html-components-2.0.0 dash-table-5.0.0 retrying-1.3.4\n"
          ]
        }
      ]
    },
    {
      "cell_type": "code",
      "source": [
        "from dash import Dash, dcc, html, Input, Output, State\n",
        "from dash.exceptions import PreventUpdate\n",
        "import base64"
      ],
      "metadata": {
        "id": "Qj3FWDgk2LCA"
      },
      "execution_count": null,
      "outputs": []
    },
    {
      "cell_type": "code",
      "source": [
        "app = Dash(__name__)"
      ],
      "metadata": {
        "id": "JLzynOrV2d_d"
      },
      "execution_count": null,
      "outputs": []
    },
    {
      "cell_type": "code",
      "source": [
        "app.layout = html.Div([\n",
        "    html.H1(\"Lettuce Type Prediction\"),\n",
        "    dcc.Upload(\n",
        "        id='upload-image',\n",
        "        children=html.Div([\n",
        "            'Drag and Drop or ',\n",
        "            html.A('Select Files')\n",
        "        ]),\n",
        "        multiple=False\n",
        "    ),\n",
        "    html.Div(id='output-image-upload'),\n",
        "])"
      ],
      "metadata": {
        "id": "0HMawhCE2fX0"
      },
      "execution_count": null,
      "outputs": []
    },
    {
      "cell_type": "code",
      "source": [
        "@app.callback(\n",
        "    Output('output-image-upload', 'children'),\n",
        "    [Input('upload-image', 'contents')],\n",
        "    [State('upload-image', 'filename')],\n",
        ")\n",
        "def update_output(contents, filename):\n",
        "    if contents is None:\n",
        "        raise PreventUpdate\n",
        "\n",
        "    try:\n",
        "        # Save the uploaded image\n",
        "        img_data = contents.split(',')[1]\n",
        "        img_data_decoded = base64.b64decode(img_data)\n",
        "        img_path = 'uploaded_image.jpg'\n",
        "        with open(img_path, 'wb') as f:\n",
        "            f.write(img_data_decoded)\n",
        "\n",
        "        # Get the predicted lettuce type\n",
        "        lettuce_type = predict_lettuce_type(img_path)\n",
        "\n",
        "        # Display the result\n",
        "        return [\n",
        "            html.H5(f'Uploaded Image: {filename}'),\n",
        "            html.Img(src=contents),\n",
        "            html.H6(f'Predicted Lettuce Type: {lettuce_type}')\n",
        "        ]\n",
        "\n",
        "    except Exception as e:\n",
        "        return f'Error: {str(e)}'"
      ],
      "metadata": {
        "id": "wDNqoD1j2zcm"
      },
      "execution_count": null,
      "outputs": []
    },
    {
      "cell_type": "code",
      "source": [
        "# Run the app\n",
        "if __name__ == '__main__':\n",
        "    app.run_server(debug=True)\n"
      ],
      "metadata": {
        "colab": {
          "base_uri": "https://localhost:8080/",
          "height": 672
        },
        "id": "ZKkvaGoV2_Fp",
        "outputId": "db98c40a-7324-4d9a-fdec-e4f589d943cb"
      },
      "execution_count": null,
      "outputs": [
        {
          "output_type": "display_data",
          "data": {
            "text/plain": [
              "<IPython.core.display.Javascript object>"
            ],
            "application/javascript": [
              "(async (port, path, width, height, cache, element) => {\n",
              "    if (!google.colab.kernel.accessAllowed && !cache) {\n",
              "      return;\n",
              "    }\n",
              "    element.appendChild(document.createTextNode(''));\n",
              "    const url = await google.colab.kernel.proxyPort(port, {cache});\n",
              "    const iframe = document.createElement('iframe');\n",
              "    iframe.src = new URL(path, url).toString();\n",
              "    iframe.height = height;\n",
              "    iframe.width = width;\n",
              "    iframe.style.border = 0;\n",
              "    iframe.allow = [\n",
              "        'accelerometer',\n",
              "        'autoplay',\n",
              "        'camera',\n",
              "        'clipboard-read',\n",
              "        'clipboard-write',\n",
              "        'gyroscope',\n",
              "        'magnetometer',\n",
              "        'microphone',\n",
              "        'serial',\n",
              "        'usb',\n",
              "        'xr-spatial-tracking',\n",
              "    ].join('; ');\n",
              "    element.appendChild(iframe);\n",
              "  })(8050, \"/\", \"100%\", 650, false, window.element)"
            ]
          },
          "metadata": {}
        }
      ]
    }
  ]
}